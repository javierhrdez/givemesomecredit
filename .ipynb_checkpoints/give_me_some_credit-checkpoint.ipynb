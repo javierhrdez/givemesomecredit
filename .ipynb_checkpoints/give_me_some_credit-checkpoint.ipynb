{
 "cells": [
  {
   "cell_type": "markdown",
   "metadata": {},
   "source": [
    "<center><h1>Give me Some Credit !</h1></center>"
   ]
  },
  {
   "cell_type": "code",
   "execution_count": 1,
   "metadata": {},
   "outputs": [],
   "source": [
    "import pandas as pd\n",
    "import numpy as np\n",
    "import matplotlib.pyplot as plt\n",
    "import seaborn as sns\n",
    "\n",
    "%matplotlib inline\n",
    "\n",
    "\n",
    "from sklearn.ensemble import RandomForestClassifier\n",
    "# Set random seed\n",
    "np.random.seed(0)"
   ]
  },
  {
   "cell_type": "code",
   "execution_count": 2,
   "metadata": {
    "scrolled": true
   },
   "outputs": [
    {
     "name": "stdout",
     "output_type": "stream",
     "text": [
      "training dataset shape is (150000, 12)\n",
      "testing dataset shape is (101503, 12)\n"
     ]
    }
   ],
   "source": [
    "train_data = pd.read_csv('data\\\\cs-training.csv')\n",
    "data = pd.read_csv('data\\\\cs-training.csv')\n",
    "test_data = pd.read_csv('data\\\\cs-test.csv')\n",
    "print (\"training dataset shape is {}\".format(train_data.shape))\n",
    "print (\"testing dataset shape is {}\".format(test_data.shape))"
   ]
  },
  {
   "cell_type": "code",
   "execution_count": 3,
   "metadata": {},
   "outputs": [
    {
     "data": {
      "text/html": [
       "<div>\n",
       "<style scoped>\n",
       "    .dataframe tbody tr th:only-of-type {\n",
       "        vertical-align: middle;\n",
       "    }\n",
       "\n",
       "    .dataframe tbody tr th {\n",
       "        vertical-align: top;\n",
       "    }\n",
       "\n",
       "    .dataframe thead th {\n",
       "        text-align: right;\n",
       "    }\n",
       "</style>\n",
       "<table border=\"1\" class=\"dataframe\">\n",
       "  <thead>\n",
       "    <tr style=\"text-align: right;\">\n",
       "      <th></th>\n",
       "      <th>Unnamed: 0</th>\n",
       "      <th>SeriousDlqin2yrs</th>\n",
       "      <th>RevolvingUtilizationOfUnsecuredLines</th>\n",
       "      <th>age</th>\n",
       "      <th>NumberOfTime30-59DaysPastDueNotWorse</th>\n",
       "      <th>DebtRatio</th>\n",
       "      <th>MonthlyIncome</th>\n",
       "      <th>NumberOfOpenCreditLinesAndLoans</th>\n",
       "      <th>NumberOfTimes90DaysLate</th>\n",
       "      <th>NumberRealEstateLoansOrLines</th>\n",
       "      <th>NumberOfTime60-89DaysPastDueNotWorse</th>\n",
       "      <th>NumberOfDependents</th>\n",
       "    </tr>\n",
       "  </thead>\n",
       "  <tbody>\n",
       "    <tr>\n",
       "      <th>count</th>\n",
       "      <td>150000.000000</td>\n",
       "      <td>150000.000000</td>\n",
       "      <td>150000.000000</td>\n",
       "      <td>150000.000000</td>\n",
       "      <td>150000.000000</td>\n",
       "      <td>150000.000000</td>\n",
       "      <td>1.202690e+05</td>\n",
       "      <td>150000.000000</td>\n",
       "      <td>150000.000000</td>\n",
       "      <td>150000.000000</td>\n",
       "      <td>150000.000000</td>\n",
       "      <td>146076.000000</td>\n",
       "    </tr>\n",
       "    <tr>\n",
       "      <th>mean</th>\n",
       "      <td>75000.500000</td>\n",
       "      <td>0.066840</td>\n",
       "      <td>6.048438</td>\n",
       "      <td>52.295207</td>\n",
       "      <td>0.421033</td>\n",
       "      <td>353.005076</td>\n",
       "      <td>6.670221e+03</td>\n",
       "      <td>8.452760</td>\n",
       "      <td>0.265973</td>\n",
       "      <td>1.018240</td>\n",
       "      <td>0.240387</td>\n",
       "      <td>0.757222</td>\n",
       "    </tr>\n",
       "    <tr>\n",
       "      <th>std</th>\n",
       "      <td>43301.414527</td>\n",
       "      <td>0.249746</td>\n",
       "      <td>249.755371</td>\n",
       "      <td>14.771866</td>\n",
       "      <td>4.192781</td>\n",
       "      <td>2037.818523</td>\n",
       "      <td>1.438467e+04</td>\n",
       "      <td>5.145951</td>\n",
       "      <td>4.169304</td>\n",
       "      <td>1.129771</td>\n",
       "      <td>4.155179</td>\n",
       "      <td>1.115086</td>\n",
       "    </tr>\n",
       "    <tr>\n",
       "      <th>min</th>\n",
       "      <td>1.000000</td>\n",
       "      <td>0.000000</td>\n",
       "      <td>0.000000</td>\n",
       "      <td>0.000000</td>\n",
       "      <td>0.000000</td>\n",
       "      <td>0.000000</td>\n",
       "      <td>0.000000e+00</td>\n",
       "      <td>0.000000</td>\n",
       "      <td>0.000000</td>\n",
       "      <td>0.000000</td>\n",
       "      <td>0.000000</td>\n",
       "      <td>0.000000</td>\n",
       "    </tr>\n",
       "    <tr>\n",
       "      <th>25%</th>\n",
       "      <td>37500.750000</td>\n",
       "      <td>0.000000</td>\n",
       "      <td>0.029867</td>\n",
       "      <td>41.000000</td>\n",
       "      <td>0.000000</td>\n",
       "      <td>0.175074</td>\n",
       "      <td>3.400000e+03</td>\n",
       "      <td>5.000000</td>\n",
       "      <td>0.000000</td>\n",
       "      <td>0.000000</td>\n",
       "      <td>0.000000</td>\n",
       "      <td>0.000000</td>\n",
       "    </tr>\n",
       "    <tr>\n",
       "      <th>50%</th>\n",
       "      <td>75000.500000</td>\n",
       "      <td>0.000000</td>\n",
       "      <td>0.154181</td>\n",
       "      <td>52.000000</td>\n",
       "      <td>0.000000</td>\n",
       "      <td>0.366508</td>\n",
       "      <td>5.400000e+03</td>\n",
       "      <td>8.000000</td>\n",
       "      <td>0.000000</td>\n",
       "      <td>1.000000</td>\n",
       "      <td>0.000000</td>\n",
       "      <td>0.000000</td>\n",
       "    </tr>\n",
       "    <tr>\n",
       "      <th>75%</th>\n",
       "      <td>112500.250000</td>\n",
       "      <td>0.000000</td>\n",
       "      <td>0.559046</td>\n",
       "      <td>63.000000</td>\n",
       "      <td>0.000000</td>\n",
       "      <td>0.868254</td>\n",
       "      <td>8.249000e+03</td>\n",
       "      <td>11.000000</td>\n",
       "      <td>0.000000</td>\n",
       "      <td>2.000000</td>\n",
       "      <td>0.000000</td>\n",
       "      <td>1.000000</td>\n",
       "    </tr>\n",
       "    <tr>\n",
       "      <th>max</th>\n",
       "      <td>150000.000000</td>\n",
       "      <td>1.000000</td>\n",
       "      <td>50708.000000</td>\n",
       "      <td>109.000000</td>\n",
       "      <td>98.000000</td>\n",
       "      <td>329664.000000</td>\n",
       "      <td>3.008750e+06</td>\n",
       "      <td>58.000000</td>\n",
       "      <td>98.000000</td>\n",
       "      <td>54.000000</td>\n",
       "      <td>98.000000</td>\n",
       "      <td>20.000000</td>\n",
       "    </tr>\n",
       "  </tbody>\n",
       "</table>\n",
       "</div>"
      ],
      "text/plain": [
       "          Unnamed: 0  SeriousDlqin2yrs  RevolvingUtilizationOfUnsecuredLines  \\\n",
       "count  150000.000000     150000.000000                         150000.000000   \n",
       "mean    75000.500000          0.066840                              6.048438   \n",
       "std     43301.414527          0.249746                            249.755371   \n",
       "min         1.000000          0.000000                              0.000000   \n",
       "25%     37500.750000          0.000000                              0.029867   \n",
       "50%     75000.500000          0.000000                              0.154181   \n",
       "75%    112500.250000          0.000000                              0.559046   \n",
       "max    150000.000000          1.000000                          50708.000000   \n",
       "\n",
       "                 age  NumberOfTime30-59DaysPastDueNotWorse      DebtRatio  \\\n",
       "count  150000.000000                         150000.000000  150000.000000   \n",
       "mean       52.295207                              0.421033     353.005076   \n",
       "std        14.771866                              4.192781    2037.818523   \n",
       "min         0.000000                              0.000000       0.000000   \n",
       "25%        41.000000                              0.000000       0.175074   \n",
       "50%        52.000000                              0.000000       0.366508   \n",
       "75%        63.000000                              0.000000       0.868254   \n",
       "max       109.000000                             98.000000  329664.000000   \n",
       "\n",
       "       MonthlyIncome  NumberOfOpenCreditLinesAndLoans  \\\n",
       "count   1.202690e+05                    150000.000000   \n",
       "mean    6.670221e+03                         8.452760   \n",
       "std     1.438467e+04                         5.145951   \n",
       "min     0.000000e+00                         0.000000   \n",
       "25%     3.400000e+03                         5.000000   \n",
       "50%     5.400000e+03                         8.000000   \n",
       "75%     8.249000e+03                        11.000000   \n",
       "max     3.008750e+06                        58.000000   \n",
       "\n",
       "       NumberOfTimes90DaysLate  NumberRealEstateLoansOrLines  \\\n",
       "count            150000.000000                 150000.000000   \n",
       "mean                  0.265973                      1.018240   \n",
       "std                   4.169304                      1.129771   \n",
       "min                   0.000000                      0.000000   \n",
       "25%                   0.000000                      0.000000   \n",
       "50%                   0.000000                      1.000000   \n",
       "75%                   0.000000                      2.000000   \n",
       "max                  98.000000                     54.000000   \n",
       "\n",
       "       NumberOfTime60-89DaysPastDueNotWorse  NumberOfDependents  \n",
       "count                         150000.000000       146076.000000  \n",
       "mean                               0.240387            0.757222  \n",
       "std                                4.155179            1.115086  \n",
       "min                                0.000000            0.000000  \n",
       "25%                                0.000000            0.000000  \n",
       "50%                                0.000000            0.000000  \n",
       "75%                                0.000000            1.000000  \n",
       "max                               98.000000           20.000000  "
      ]
     },
     "execution_count": 3,
     "metadata": {},
     "output_type": "execute_result"
    }
   ],
   "source": [
    "train_data.describe()"
   ]
  },
  {
   "cell_type": "code",
   "execution_count": 4,
   "metadata": {},
   "outputs": [
    {
     "data": {
      "text/html": [
       "<div>\n",
       "<style scoped>\n",
       "    .dataframe tbody tr th:only-of-type {\n",
       "        vertical-align: middle;\n",
       "    }\n",
       "\n",
       "    .dataframe tbody tr th {\n",
       "        vertical-align: top;\n",
       "    }\n",
       "\n",
       "    .dataframe thead th {\n",
       "        text-align: right;\n",
       "    }\n",
       "</style>\n",
       "<table border=\"1\" class=\"dataframe\">\n",
       "  <thead>\n",
       "    <tr style=\"text-align: right;\">\n",
       "      <th></th>\n",
       "      <th>Unnamed: 0</th>\n",
       "      <th>SeriousDlqin2yrs</th>\n",
       "      <th>RevolvingUtilizationOfUnsecuredLines</th>\n",
       "      <th>age</th>\n",
       "      <th>NumberOfTime30-59DaysPastDueNotWorse</th>\n",
       "      <th>DebtRatio</th>\n",
       "      <th>MonthlyIncome</th>\n",
       "      <th>NumberOfOpenCreditLinesAndLoans</th>\n",
       "      <th>NumberOfTimes90DaysLate</th>\n",
       "      <th>NumberRealEstateLoansOrLines</th>\n",
       "      <th>NumberOfTime60-89DaysPastDueNotWorse</th>\n",
       "      <th>NumberOfDependents</th>\n",
       "    </tr>\n",
       "  </thead>\n",
       "  <tbody>\n",
       "    <tr>\n",
       "      <th>count</th>\n",
       "      <td>101503.000000</td>\n",
       "      <td>0.0</td>\n",
       "      <td>101503.000000</td>\n",
       "      <td>101503.000000</td>\n",
       "      <td>101503.000000</td>\n",
       "      <td>101503.000000</td>\n",
       "      <td>8.140000e+04</td>\n",
       "      <td>101503.000000</td>\n",
       "      <td>101503.000000</td>\n",
       "      <td>101503.000000</td>\n",
       "      <td>101503.000000</td>\n",
       "      <td>98877.000000</td>\n",
       "    </tr>\n",
       "    <tr>\n",
       "      <th>mean</th>\n",
       "      <td>50752.000000</td>\n",
       "      <td>NaN</td>\n",
       "      <td>5.310000</td>\n",
       "      <td>52.405436</td>\n",
       "      <td>0.453770</td>\n",
       "      <td>344.475020</td>\n",
       "      <td>6.855036e+03</td>\n",
       "      <td>8.453514</td>\n",
       "      <td>0.296691</td>\n",
       "      <td>1.013074</td>\n",
       "      <td>0.270317</td>\n",
       "      <td>0.769046</td>\n",
       "    </tr>\n",
       "    <tr>\n",
       "      <th>std</th>\n",
       "      <td>29301.536524</td>\n",
       "      <td>NaN</td>\n",
       "      <td>196.156039</td>\n",
       "      <td>14.779756</td>\n",
       "      <td>4.538487</td>\n",
       "      <td>1632.595231</td>\n",
       "      <td>3.650860e+04</td>\n",
       "      <td>5.144100</td>\n",
       "      <td>4.515859</td>\n",
       "      <td>1.110253</td>\n",
       "      <td>4.503578</td>\n",
       "      <td>1.136778</td>\n",
       "    </tr>\n",
       "    <tr>\n",
       "      <th>min</th>\n",
       "      <td>1.000000</td>\n",
       "      <td>NaN</td>\n",
       "      <td>0.000000</td>\n",
       "      <td>21.000000</td>\n",
       "      <td>0.000000</td>\n",
       "      <td>0.000000</td>\n",
       "      <td>0.000000e+00</td>\n",
       "      <td>0.000000</td>\n",
       "      <td>0.000000</td>\n",
       "      <td>0.000000</td>\n",
       "      <td>0.000000</td>\n",
       "      <td>0.000000</td>\n",
       "    </tr>\n",
       "    <tr>\n",
       "      <th>25%</th>\n",
       "      <td>25376.500000</td>\n",
       "      <td>NaN</td>\n",
       "      <td>0.030131</td>\n",
       "      <td>41.000000</td>\n",
       "      <td>0.000000</td>\n",
       "      <td>0.173423</td>\n",
       "      <td>3.408000e+03</td>\n",
       "      <td>5.000000</td>\n",
       "      <td>0.000000</td>\n",
       "      <td>0.000000</td>\n",
       "      <td>0.000000</td>\n",
       "      <td>0.000000</td>\n",
       "    </tr>\n",
       "    <tr>\n",
       "      <th>50%</th>\n",
       "      <td>50752.000000</td>\n",
       "      <td>NaN</td>\n",
       "      <td>0.152586</td>\n",
       "      <td>52.000000</td>\n",
       "      <td>0.000000</td>\n",
       "      <td>0.364260</td>\n",
       "      <td>5.400000e+03</td>\n",
       "      <td>8.000000</td>\n",
       "      <td>0.000000</td>\n",
       "      <td>1.000000</td>\n",
       "      <td>0.000000</td>\n",
       "      <td>0.000000</td>\n",
       "    </tr>\n",
       "    <tr>\n",
       "      <th>75%</th>\n",
       "      <td>76127.500000</td>\n",
       "      <td>NaN</td>\n",
       "      <td>0.564225</td>\n",
       "      <td>63.000000</td>\n",
       "      <td>0.000000</td>\n",
       "      <td>0.851619</td>\n",
       "      <td>8.200000e+03</td>\n",
       "      <td>11.000000</td>\n",
       "      <td>0.000000</td>\n",
       "      <td>2.000000</td>\n",
       "      <td>0.000000</td>\n",
       "      <td>1.000000</td>\n",
       "    </tr>\n",
       "    <tr>\n",
       "      <th>max</th>\n",
       "      <td>101503.000000</td>\n",
       "      <td>NaN</td>\n",
       "      <td>21821.000000</td>\n",
       "      <td>104.000000</td>\n",
       "      <td>98.000000</td>\n",
       "      <td>268326.000000</td>\n",
       "      <td>7.727000e+06</td>\n",
       "      <td>85.000000</td>\n",
       "      <td>98.000000</td>\n",
       "      <td>37.000000</td>\n",
       "      <td>98.000000</td>\n",
       "      <td>43.000000</td>\n",
       "    </tr>\n",
       "  </tbody>\n",
       "</table>\n",
       "</div>"
      ],
      "text/plain": [
       "          Unnamed: 0  SeriousDlqin2yrs  RevolvingUtilizationOfUnsecuredLines  \\\n",
       "count  101503.000000               0.0                         101503.000000   \n",
       "mean    50752.000000               NaN                              5.310000   \n",
       "std     29301.536524               NaN                            196.156039   \n",
       "min         1.000000               NaN                              0.000000   \n",
       "25%     25376.500000               NaN                              0.030131   \n",
       "50%     50752.000000               NaN                              0.152586   \n",
       "75%     76127.500000               NaN                              0.564225   \n",
       "max    101503.000000               NaN                          21821.000000   \n",
       "\n",
       "                 age  NumberOfTime30-59DaysPastDueNotWorse      DebtRatio  \\\n",
       "count  101503.000000                         101503.000000  101503.000000   \n",
       "mean       52.405436                              0.453770     344.475020   \n",
       "std        14.779756                              4.538487    1632.595231   \n",
       "min        21.000000                              0.000000       0.000000   \n",
       "25%        41.000000                              0.000000       0.173423   \n",
       "50%        52.000000                              0.000000       0.364260   \n",
       "75%        63.000000                              0.000000       0.851619   \n",
       "max       104.000000                             98.000000  268326.000000   \n",
       "\n",
       "       MonthlyIncome  NumberOfOpenCreditLinesAndLoans  \\\n",
       "count   8.140000e+04                    101503.000000   \n",
       "mean    6.855036e+03                         8.453514   \n",
       "std     3.650860e+04                         5.144100   \n",
       "min     0.000000e+00                         0.000000   \n",
       "25%     3.408000e+03                         5.000000   \n",
       "50%     5.400000e+03                         8.000000   \n",
       "75%     8.200000e+03                        11.000000   \n",
       "max     7.727000e+06                        85.000000   \n",
       "\n",
       "       NumberOfTimes90DaysLate  NumberRealEstateLoansOrLines  \\\n",
       "count            101503.000000                 101503.000000   \n",
       "mean                  0.296691                      1.013074   \n",
       "std                   4.515859                      1.110253   \n",
       "min                   0.000000                      0.000000   \n",
       "25%                   0.000000                      0.000000   \n",
       "50%                   0.000000                      1.000000   \n",
       "75%                   0.000000                      2.000000   \n",
       "max                  98.000000                     37.000000   \n",
       "\n",
       "       NumberOfTime60-89DaysPastDueNotWorse  NumberOfDependents  \n",
       "count                         101503.000000        98877.000000  \n",
       "mean                               0.270317            0.769046  \n",
       "std                                4.503578            1.136778  \n",
       "min                                0.000000            0.000000  \n",
       "25%                                0.000000            0.000000  \n",
       "50%                                0.000000            0.000000  \n",
       "75%                                0.000000            1.000000  \n",
       "max                               98.000000           43.000000  "
      ]
     },
     "execution_count": 4,
     "metadata": {},
     "output_type": "execute_result"
    }
   ],
   "source": [
    "test_data.describe()"
   ]
  },
  {
   "cell_type": "code",
   "execution_count": 5,
   "metadata": {},
   "outputs": [],
   "source": [
    "\n",
    "col_names = train_data.columns.values\n",
    "col_names[0] = 'ID' ## rename first column to ID\n",
    "train_data.columns = col_names ## assign new column name to training dataset\n",
    "test_data.columns = col_names ## assign new column name to testing dataset\n",
    "data.columns = col_names"
   ]
  },
  {
   "cell_type": "code",
   "execution_count": 6,
   "metadata": {},
   "outputs": [
    {
     "name": "stdout",
     "output_type": "stream",
     "text": [
      "Datos de entrenamiento\n"
     ]
    },
    {
     "data": {
      "text/html": [
       "<div>\n",
       "<style scoped>\n",
       "    .dataframe tbody tr th:only-of-type {\n",
       "        vertical-align: middle;\n",
       "    }\n",
       "\n",
       "    .dataframe tbody tr th {\n",
       "        vertical-align: top;\n",
       "    }\n",
       "\n",
       "    .dataframe thead th {\n",
       "        text-align: right;\n",
       "    }\n",
       "</style>\n",
       "<table border=\"1\" class=\"dataframe\">\n",
       "  <thead>\n",
       "    <tr style=\"text-align: right;\">\n",
       "      <th></th>\n",
       "      <th>ID</th>\n",
       "      <th>SeriousDlqin2yrs</th>\n",
       "      <th>RevolvingUtilizationOfUnsecuredLines</th>\n",
       "      <th>age</th>\n",
       "      <th>NumberOfTime30-59DaysPastDueNotWorse</th>\n",
       "      <th>DebtRatio</th>\n",
       "      <th>MonthlyIncome</th>\n",
       "      <th>NumberOfOpenCreditLinesAndLoans</th>\n",
       "      <th>NumberOfTimes90DaysLate</th>\n",
       "      <th>NumberRealEstateLoansOrLines</th>\n",
       "      <th>NumberOfTime60-89DaysPastDueNotWorse</th>\n",
       "      <th>NumberOfDependents</th>\n",
       "    </tr>\n",
       "  </thead>\n",
       "  <tbody>\n",
       "    <tr>\n",
       "      <th>0</th>\n",
       "      <td>1</td>\n",
       "      <td>1</td>\n",
       "      <td>0.766127</td>\n",
       "      <td>45</td>\n",
       "      <td>2</td>\n",
       "      <td>0.802982</td>\n",
       "      <td>9120.0</td>\n",
       "      <td>13</td>\n",
       "      <td>0</td>\n",
       "      <td>6</td>\n",
       "      <td>0</td>\n",
       "      <td>2.0</td>\n",
       "    </tr>\n",
       "    <tr>\n",
       "      <th>1</th>\n",
       "      <td>2</td>\n",
       "      <td>0</td>\n",
       "      <td>0.957151</td>\n",
       "      <td>40</td>\n",
       "      <td>0</td>\n",
       "      <td>0.121876</td>\n",
       "      <td>2600.0</td>\n",
       "      <td>4</td>\n",
       "      <td>0</td>\n",
       "      <td>0</td>\n",
       "      <td>0</td>\n",
       "      <td>1.0</td>\n",
       "    </tr>\n",
       "    <tr>\n",
       "      <th>2</th>\n",
       "      <td>3</td>\n",
       "      <td>0</td>\n",
       "      <td>0.658180</td>\n",
       "      <td>38</td>\n",
       "      <td>1</td>\n",
       "      <td>0.085113</td>\n",
       "      <td>3042.0</td>\n",
       "      <td>2</td>\n",
       "      <td>1</td>\n",
       "      <td>0</td>\n",
       "      <td>0</td>\n",
       "      <td>0.0</td>\n",
       "    </tr>\n",
       "    <tr>\n",
       "      <th>3</th>\n",
       "      <td>4</td>\n",
       "      <td>0</td>\n",
       "      <td>0.233810</td>\n",
       "      <td>30</td>\n",
       "      <td>0</td>\n",
       "      <td>0.036050</td>\n",
       "      <td>3300.0</td>\n",
       "      <td>5</td>\n",
       "      <td>0</td>\n",
       "      <td>0</td>\n",
       "      <td>0</td>\n",
       "      <td>0.0</td>\n",
       "    </tr>\n",
       "    <tr>\n",
       "      <th>4</th>\n",
       "      <td>5</td>\n",
       "      <td>0</td>\n",
       "      <td>0.907239</td>\n",
       "      <td>49</td>\n",
       "      <td>1</td>\n",
       "      <td>0.024926</td>\n",
       "      <td>63588.0</td>\n",
       "      <td>7</td>\n",
       "      <td>0</td>\n",
       "      <td>1</td>\n",
       "      <td>0</td>\n",
       "      <td>0.0</td>\n",
       "    </tr>\n",
       "  </tbody>\n",
       "</table>\n",
       "</div>"
      ],
      "text/plain": [
       "   ID  SeriousDlqin2yrs  RevolvingUtilizationOfUnsecuredLines  age  \\\n",
       "0   1                 1                              0.766127   45   \n",
       "1   2                 0                              0.957151   40   \n",
       "2   3                 0                              0.658180   38   \n",
       "3   4                 0                              0.233810   30   \n",
       "4   5                 0                              0.907239   49   \n",
       "\n",
       "   NumberOfTime30-59DaysPastDueNotWorse  DebtRatio  MonthlyIncome  \\\n",
       "0                                     2   0.802982         9120.0   \n",
       "1                                     0   0.121876         2600.0   \n",
       "2                                     1   0.085113         3042.0   \n",
       "3                                     0   0.036050         3300.0   \n",
       "4                                     1   0.024926        63588.0   \n",
       "\n",
       "   NumberOfOpenCreditLinesAndLoans  NumberOfTimes90DaysLate  \\\n",
       "0                               13                        0   \n",
       "1                                4                        0   \n",
       "2                                2                        1   \n",
       "3                                5                        0   \n",
       "4                                7                        0   \n",
       "\n",
       "   NumberRealEstateLoansOrLines  NumberOfTime60-89DaysPastDueNotWorse  \\\n",
       "0                             6                                     0   \n",
       "1                             0                                     0   \n",
       "2                             0                                     0   \n",
       "3                             0                                     0   \n",
       "4                             1                                     0   \n",
       "\n",
       "   NumberOfDependents  \n",
       "0                 2.0  \n",
       "1                 1.0  \n",
       "2                 0.0  \n",
       "3                 0.0  \n",
       "4                 0.0  "
      ]
     },
     "execution_count": 6,
     "metadata": {},
     "output_type": "execute_result"
    }
   ],
   "source": [
    "print (\"Datos de entrenamiento\")\n",
    "train_data.head()"
   ]
  },
  {
   "cell_type": "code",
   "execution_count": 7,
   "metadata": {},
   "outputs": [
    {
     "name": "stdout",
     "output_type": "stream",
     "text": [
      "Datos de Prueba\n"
     ]
    },
    {
     "data": {
      "text/html": [
       "<div>\n",
       "<style scoped>\n",
       "    .dataframe tbody tr th:only-of-type {\n",
       "        vertical-align: middle;\n",
       "    }\n",
       "\n",
       "    .dataframe tbody tr th {\n",
       "        vertical-align: top;\n",
       "    }\n",
       "\n",
       "    .dataframe thead th {\n",
       "        text-align: right;\n",
       "    }\n",
       "</style>\n",
       "<table border=\"1\" class=\"dataframe\">\n",
       "  <thead>\n",
       "    <tr style=\"text-align: right;\">\n",
       "      <th></th>\n",
       "      <th>ID</th>\n",
       "      <th>SeriousDlqin2yrs</th>\n",
       "      <th>RevolvingUtilizationOfUnsecuredLines</th>\n",
       "      <th>age</th>\n",
       "      <th>NumberOfTime30-59DaysPastDueNotWorse</th>\n",
       "      <th>DebtRatio</th>\n",
       "      <th>MonthlyIncome</th>\n",
       "      <th>NumberOfOpenCreditLinesAndLoans</th>\n",
       "      <th>NumberOfTimes90DaysLate</th>\n",
       "      <th>NumberRealEstateLoansOrLines</th>\n",
       "      <th>NumberOfTime60-89DaysPastDueNotWorse</th>\n",
       "      <th>NumberOfDependents</th>\n",
       "    </tr>\n",
       "  </thead>\n",
       "  <tbody>\n",
       "    <tr>\n",
       "      <th>0</th>\n",
       "      <td>1</td>\n",
       "      <td>NaN</td>\n",
       "      <td>0.885519</td>\n",
       "      <td>43</td>\n",
       "      <td>0</td>\n",
       "      <td>0.177513</td>\n",
       "      <td>5700.0</td>\n",
       "      <td>4</td>\n",
       "      <td>0</td>\n",
       "      <td>0</td>\n",
       "      <td>0</td>\n",
       "      <td>0.0</td>\n",
       "    </tr>\n",
       "    <tr>\n",
       "      <th>1</th>\n",
       "      <td>2</td>\n",
       "      <td>NaN</td>\n",
       "      <td>0.463295</td>\n",
       "      <td>57</td>\n",
       "      <td>0</td>\n",
       "      <td>0.527237</td>\n",
       "      <td>9141.0</td>\n",
       "      <td>15</td>\n",
       "      <td>0</td>\n",
       "      <td>4</td>\n",
       "      <td>0</td>\n",
       "      <td>2.0</td>\n",
       "    </tr>\n",
       "    <tr>\n",
       "      <th>2</th>\n",
       "      <td>3</td>\n",
       "      <td>NaN</td>\n",
       "      <td>0.043275</td>\n",
       "      <td>59</td>\n",
       "      <td>0</td>\n",
       "      <td>0.687648</td>\n",
       "      <td>5083.0</td>\n",
       "      <td>12</td>\n",
       "      <td>0</td>\n",
       "      <td>1</td>\n",
       "      <td>0</td>\n",
       "      <td>2.0</td>\n",
       "    </tr>\n",
       "    <tr>\n",
       "      <th>3</th>\n",
       "      <td>4</td>\n",
       "      <td>NaN</td>\n",
       "      <td>0.280308</td>\n",
       "      <td>38</td>\n",
       "      <td>1</td>\n",
       "      <td>0.925961</td>\n",
       "      <td>3200.0</td>\n",
       "      <td>7</td>\n",
       "      <td>0</td>\n",
       "      <td>2</td>\n",
       "      <td>0</td>\n",
       "      <td>0.0</td>\n",
       "    </tr>\n",
       "    <tr>\n",
       "      <th>4</th>\n",
       "      <td>5</td>\n",
       "      <td>NaN</td>\n",
       "      <td>1.000000</td>\n",
       "      <td>27</td>\n",
       "      <td>0</td>\n",
       "      <td>0.019917</td>\n",
       "      <td>3865.0</td>\n",
       "      <td>4</td>\n",
       "      <td>0</td>\n",
       "      <td>0</td>\n",
       "      <td>0</td>\n",
       "      <td>1.0</td>\n",
       "    </tr>\n",
       "  </tbody>\n",
       "</table>\n",
       "</div>"
      ],
      "text/plain": [
       "   ID  SeriousDlqin2yrs  RevolvingUtilizationOfUnsecuredLines  age  \\\n",
       "0   1               NaN                              0.885519   43   \n",
       "1   2               NaN                              0.463295   57   \n",
       "2   3               NaN                              0.043275   59   \n",
       "3   4               NaN                              0.280308   38   \n",
       "4   5               NaN                              1.000000   27   \n",
       "\n",
       "   NumberOfTime30-59DaysPastDueNotWorse  DebtRatio  MonthlyIncome  \\\n",
       "0                                     0   0.177513         5700.0   \n",
       "1                                     0   0.527237         9141.0   \n",
       "2                                     0   0.687648         5083.0   \n",
       "3                                     1   0.925961         3200.0   \n",
       "4                                     0   0.019917         3865.0   \n",
       "\n",
       "   NumberOfOpenCreditLinesAndLoans  NumberOfTimes90DaysLate  \\\n",
       "0                                4                        0   \n",
       "1                               15                        0   \n",
       "2                               12                        0   \n",
       "3                                7                        0   \n",
       "4                                4                        0   \n",
       "\n",
       "   NumberRealEstateLoansOrLines  NumberOfTime60-89DaysPastDueNotWorse  \\\n",
       "0                             0                                     0   \n",
       "1                             4                                     0   \n",
       "2                             1                                     0   \n",
       "3                             2                                     0   \n",
       "4                             0                                     0   \n",
       "\n",
       "   NumberOfDependents  \n",
       "0                 0.0  \n",
       "1                 2.0  \n",
       "2                 2.0  \n",
       "3                 0.0  \n",
       "4                 1.0  "
      ]
     },
     "execution_count": 7,
     "metadata": {},
     "output_type": "execute_result"
    }
   ],
   "source": [
    "print (\"Datos de Prueba\")\n",
    "test_data.head()"
   ]
  },
  {
   "cell_type": "code",
   "execution_count": 8,
   "metadata": {},
   "outputs": [
    {
     "name": "stdout",
     "output_type": "stream",
     "text": [
      "ID                                        int64\n",
      "SeriousDlqin2yrs                          int64\n",
      "RevolvingUtilizationOfUnsecuredLines    float64\n",
      "age                                       int64\n",
      "NumberOfTime30-59DaysPastDueNotWorse      int64\n",
      "DebtRatio                               float64\n",
      "MonthlyIncome                           float64\n",
      "NumberOfOpenCreditLinesAndLoans           int64\n",
      "NumberOfTimes90DaysLate                   int64\n",
      "NumberRealEstateLoansOrLines              int64\n",
      "NumberOfTime60-89DaysPastDueNotWorse      int64\n",
      "NumberOfDependents                      float64\n",
      "dtype: object\n"
     ]
    }
   ],
   "source": [
    "print(train_data.dtypes)"
   ]
  },
  {
   "cell_type": "code",
   "execution_count": 9,
   "metadata": {
    "scrolled": true
   },
   "outputs": [
    {
     "name": "stdout",
     "output_type": "stream",
     "text": [
      "ID                                        int64\n",
      "SeriousDlqin2yrs                        float64\n",
      "RevolvingUtilizationOfUnsecuredLines    float64\n",
      "age                                       int64\n",
      "NumberOfTime30-59DaysPastDueNotWorse      int64\n",
      "DebtRatio                               float64\n",
      "MonthlyIncome                           float64\n",
      "NumberOfOpenCreditLinesAndLoans           int64\n",
      "NumberOfTimes90DaysLate                   int64\n",
      "NumberRealEstateLoansOrLines              int64\n",
      "NumberOfTime60-89DaysPastDueNotWorse      int64\n",
      "NumberOfDependents                      float64\n",
      "dtype: object\n"
     ]
    }
   ],
   "source": [
    "print(test_data.dtypes)"
   ]
  },
  {
   "cell_type": "code",
   "execution_count": 10,
   "metadata": {},
   "outputs": [
    {
     "name": "stdout",
     "output_type": "stream",
     "text": [
      "0    139974\n",
      "1     10026\n",
      "Name: SeriousDlqin2yrs, dtype: int64\n"
     ]
    },
    {
     "data": {
      "text/plain": [
       "<matplotlib.axes._subplots.AxesSubplot at 0x2c9938a11d0>"
      ]
     },
     "execution_count": 10,
     "metadata": {},
     "output_type": "execute_result"
    },
    {
     "data": {
      "image/png": "[encoded data removed]",
      "text/plain": [
       "<Figure size 432x288 with 1 Axes>"
      ]
     },
     "metadata": {
      "needs_background": "light"
     },
     "output_type": "display_data"
    }
   ],
   "source": [
    "print(train_data['SeriousDlqin2yrs'].value_counts())\n",
    "sns.countplot(x=\"SeriousDlqin2yrs\", data=train_data)"
   ]
  },
  {
   "cell_type": "code",
   "execution_count": 11,
   "metadata": {},
   "outputs": [],
   "source": [
    "def balance(df):\n",
    "    # Class count\n",
    "    count_SeriousDlqin2yrs_0, count_SeriousDlqin2yrs_1 = df['SeriousDlqin2yrs'].value_counts()\n",
    "    # Divide by class\n",
    "    df_SeriousDlqin2yrs_0 = df[df['SeriousDlqin2yrs'] == 0]\n",
    "    df_SeriousDlqin2yrs_1 = df[df['SeriousDlqin2yrs'] == 1]\n",
    "    df_SeriousDlqin2yrs_0_balanced = df_SeriousDlqin2yrs_0.sample(count_SeriousDlqin2yrs_1)\n",
    "    data_balanced = pd.concat([df_SeriousDlqin2yrs_0_balanced, df_SeriousDlqin2yrs_1], axis=0)\n",
    "    return data_balanced"
   ]
  },
  {
   "cell_type": "code",
   "execution_count": 12,
   "metadata": {},
   "outputs": [
    {
     "name": "stdout",
     "output_type": "stream",
     "text": [
      "Random under-sampling:\n",
      "1    10026\n",
      "0    10026\n",
      "Name: SeriousDlqin2yrs, dtype: int64\n"
     ]
    },
    {
     "data": {
      "text/plain": [
       "<matplotlib.axes._subplots.AxesSubplot at 0x2c993a6dba8>"
      ]
     },
     "execution_count": 12,
     "metadata": {},
     "output_type": "execute_result"
    },
    {
     "data": {
      "image/png": "[encoded data removed]",
      "text/plain": [
       "<Figure size 432x288 with 1 Axes>"
      ]
     },
     "metadata": {
      "needs_background": "light"
     },
     "output_type": "display_data"
    }
   ],
   "source": [
    "train_data_balanced = balance(train_data)\n",
    "\n",
    "print('Random under-sampling:')\n",
    "print(train_data_balanced['SeriousDlqin2yrs'].value_counts())\n",
    "\n",
    "sns.countplot(x=\"SeriousDlqin2yrs\", data=train_data_balanced)"
   ]
  },
  {
   "cell_type": "code",
   "execution_count": 13,
   "metadata": {
    "scrolled": true
   },
   "outputs": [
    {
     "data": {
      "text/plain": [
       "ID                                         0\n",
       "SeriousDlqin2yrs                           0\n",
       "RevolvingUtilizationOfUnsecuredLines       0\n",
       "age                                        0\n",
       "NumberOfTime30-59DaysPastDueNotWorse       0\n",
       "DebtRatio                                  0\n",
       "MonthlyIncome                           3687\n",
       "NumberOfOpenCreditLinesAndLoans            0\n",
       "NumberOfTimes90DaysLate                    0\n",
       "NumberRealEstateLoansOrLines               0\n",
       "NumberOfTime60-89DaysPastDueNotWorse       0\n",
       "NumberOfDependents                       433\n",
       "dtype: int64"
      ]
     },
     "execution_count": 13,
     "metadata": {},
     "output_type": "execute_result"
    }
   ],
   "source": [
    "train_data_balanced.isnull().sum()"
   ]
  },
  {
   "cell_type": "code",
   "execution_count": 14,
   "metadata": {},
   "outputs": [],
   "source": [
    "def fixNAs(df):\n",
    "    df['UnknownNumberOfDependents'] = 0\n",
    "    df.loc[df['NumberOfDependents'].isnull(),'NumberOfDependents' ] = 0\n",
    "    df.loc[df['NumberOfDependents'].isnull(),'UnknownNumberOfDependents' ] = 1\n",
    "\n",
    "    df['UnknownMonthlyIncome'] = 0\n",
    "    df.loc[df['MonthlyIncome'].isnull(),'MonthlyIncome' ] = 0\n",
    "    df.loc[df['MonthlyIncome'].isnull(),'UnknownMonthlyIncome' ] = 1    \n",
    "    \n",
    "    #df['NumberOfDependents'] = df['NumberOfDependents'].fillna(0)\n",
    "    #df['MonthlyIncome'] = df['MonthlyIncome'].fillna(0)\n",
    "    return df"
   ]
  },
  {
   "cell_type": "markdown",
   "metadata": {},
   "source": [
    "<center><h2>Arreglar DebtRadio</h2></center>\n",
    "<br>\n",
    "\\begin{equation*}\n",
    "debRatio = \\frac{debt}{MonthlyIncome}\n",
    "\\end{equation*}"
   ]
  },
  {
   "cell_type": "code",
   "execution_count": 15,
   "metadata": {},
   "outputs": [
    {
     "name": "stdout",
     "output_type": "stream",
     "text": [
      "count    150000.000000\n",
      "mean        353.005076\n",
      "std        2037.818523\n",
      "min           0.000000\n",
      "25%           0.175074\n",
      "50%           0.366508\n",
      "75%           0.868254\n",
      "max      329664.000000\n",
      "Name: DebtRatio, dtype: float64\n",
      "-2.3025850929940455\n"
     ]
    }
   ],
   "source": [
    "print(train_data['DebtRatio'].describe())\n",
    "print(np.log(0.1))\n",
    "\n",
    "\n",
    "def fixDebtRatio(df):\n",
    "    df['ZeroDebtRatio'] = 0\n",
    "    df.loc[df['DebtRatio'] == 0 ,'ZeroDebtRatio' ] = 1\n",
    "    \n",
    "    df['UnknownIncomeDebtRatio'] = 0\n",
    "    df.loc[df['UnknownMonthlyIncome'] == 1 ,'UnknownIncomeDebtRatio' ] = 1\n",
    "    \n",
    "    df.loc[df['UnknownMonthlyIncome'] == 1 ,'DebtRatio' ] = 0\n",
    "    \n",
    "    df['Debt'] = df['MonthlyIncome'] * df['DebtRatio']\n",
    "    \n",
    "    df['Log.Debt'] = np.log(1 + df['Debt'])\n",
    "    \n",
    "    df = df.drop(['Debt'],axis=1,inplace=False)\n",
    "    \n",
    "    return df\n",
    "\n",
    "    "
   ]
  },
  {
   "cell_type": "code",
   "execution_count": 16,
   "metadata": {},
   "outputs": [
    {
     "name": "stdout",
     "output_type": "stream",
     "text": [
      "count    150000.000000\n",
      "mean          6.048438\n",
      "std         249.755371\n",
      "min           0.000000\n",
      "25%           0.029867\n",
      "50%           0.154181\n",
      "75%           0.559046\n",
      "max       50708.000000\n",
      "Name: RevolvingUtilizationOfUnsecuredLines, dtype: float64\n"
     ]
    }
   ],
   "source": [
    "print(train_data['RevolvingUtilizationOfUnsecuredLines'].describe())\n",
    "def fixRevolving(df):\n",
    "    df['ZeroRevolvingUtilization'] = 0\n",
    "    df.loc[df['RevolvingUtilizationOfUnsecuredLines'] == 0 ,'ZeroRevolvingUtilization' ] = 1\n",
    "    \n",
    "    df['WeirdRevolvingUtilization'] = 0\n",
    "    df.loc[np.log(df['RevolvingUtilizationOfUnsecuredLines']) > 3 ,'WeirdRevolvingUtilization' ] = 1\n",
    "    df.loc[np.log(df['RevolvingUtilizationOfUnsecuredLines']) > 3 ,'RevolvingUtilizationOfUnsecuredLines' ] = 0\n",
    "    \n",
    "    df['Weird0999Utilization'] = 0\n",
    "    df.loc[df['RevolvingUtilizationOfUnsecuredLines'] > 0.9 ,'WeirdRevolvingUtilization'] = 1\n",
    "    \n",
    "    df['FullUtilization'] = 0\n",
    "    df.loc[df['RevolvingUtilizationOfUnsecuredLines'] == 1 ,'FullUtilization'] = 1\n",
    "    \n",
    "    df['ExcessUtilization'] = 0\n",
    "    df.loc[df['RevolvingUtilizationOfUnsecuredLines'] > 1 ,'ExcessUtilization'] = 1\n",
    "    \n",
    "    df['Log.RevolvingUtilizationOfUnsecuredLines'] = np.log(df['RevolvingUtilizationOfUnsecuredLines'])\n",
    "    #df.loc[df['Log_RevolvingUtilizationOfUnsecuredLines'].isnull(),'Log_RevolvingUtilizationOfUnsecuredLines'] = 0\n",
    "    df.loc[df['Log.RevolvingUtilizationOfUnsecuredLines'].isin([np.nan, np.inf, -np.inf]),'Log.RevolvingUtilizationOfUnsecuredLines'] = 0\n",
    "    \n",
    "    df = df.drop(['RevolvingUtilizationOfUnsecuredLines'],axis=1,inplace=False)\n",
    "    \n",
    "    return df"
   ]
  },
  {
   "cell_type": "code",
   "execution_count": 17,
   "metadata": {},
   "outputs": [],
   "source": [
    "def fixCreditLines(df):\n",
    "    #numero de lineas de credito abiertas menos el numero de hipotecas\n",
    "    df['RevolvingLines'] = df['NumberOfOpenCreditLinesAndLoans'] - df['NumberRealEstateLoansOrLines']\n",
    "    df['HasRevolvingLines'] = 0\n",
    "    df.loc[df['RevolvingLines'] > 0 ,'HasRevolvingLines'] = 1\n",
    "    return df\n",
    "    "
   ]
  },
  {
   "cell_type": "code",
   "execution_count": 18,
   "metadata": {},
   "outputs": [],
   "source": [
    "def fixRealEstateLoan(df):\n",
    "    df['HasRealEstateLoans'] = 0\n",
    "    df.loc[df['NumberRealEstateLoansOrLines'] > 0 ,'HasRealEstateLoans'] = 1\n",
    "    \n",
    "    df['HasMultipleRealEstateLoans'] = 0\n",
    "    df.loc[df['NumberRealEstateLoansOrLines'] > 1 ,'HasMultipleRealEstateLoans'] = 1\n",
    "    \n",
    "    df['Log.NumberRealEstateLoansOrLines'] = np.log(df['NumberRealEstateLoansOrLines'])\n",
    "    df.loc[df['Log.NumberRealEstateLoansOrLines'].isin([np.nan, np.inf, -np.inf]),'Log.NumberRealEstateLoansOrLines'] = 0\n",
    "\n",
    "    df = df.drop(['Log.NumberRealEstateLoansOrLines'],axis=1,inplace=False)\n",
    "    \n",
    "    return df\n",
    "    "
   ]
  },
  {
   "cell_type": "code",
   "execution_count": 19,
   "metadata": {},
   "outputs": [],
   "source": [
    "def fixNumberOfTimes(df):\n",
    "    \n",
    "    # Identificar outliers\n",
    "    \n",
    "    # cantidad de impagos entre 30 a 59 días \n",
    "    df['NumberOfTime30-59DaysPastDueNotWorseLarge'] = 0\n",
    "    df.loc[df['NumberOfTime30-59DaysPastDueNotWorse'] > 90 ,'NumberOfTime30-59DaysPastDueNotWorseLarge'] = 1\n",
    "    \n",
    "    df['NumberOfTime30-59DaysPastDueNotWorse96'] = 0\n",
    "    df.loc[df['NumberOfTime30-59DaysPastDueNotWorse'] == 96 ,'NumberOfTime30-59DaysPastDueNotWorse96'] = 1 \n",
    "    \n",
    "    df['NumberOfTime30-59DaysPastDueNotWorse98'] = 0\n",
    "    df.loc[df['NumberOfTime30-59DaysPastDueNotWorse'] == 98 ,'NumberOfTime30-59DaysPastDueNotWorse98'] = 1\n",
    "\n",
    "    df['Never30.59DaysPastDueNotWorse'] = 0\n",
    "    df.loc[df['NumberOfTime30-59DaysPastDueNotWorse'] == 0 ,'Never30.59DaysPastDueNotWorse'] = 1\n",
    "    \n",
    "    df.loc[df['NumberOfTime30-59DaysPastDueNotWorse'] > 90 ,'NumberOfTime30-59DaysPastDueNotWorse'] = 0\n",
    "    \n",
    "    #cantidad de impagos 60 a 90\n",
    "    \n",
    "    df['NumberOfTime60-89DaysPastDueNotWorseLarge'] = 0\n",
    "    df.loc[df['NumberOfTime60-89DaysPastDueNotWorse'] > 90 ,'NumberOfTime60-89DaysPastDueNotWorseLarge'] = 1    \n",
    "    \n",
    "    df['NumberOfTime60-89DaysPastDueNotWorse96'] = 0\n",
    "    df.loc[df['NumberOfTime60-89DaysPastDueNotWorse'] == 96 ,'NumberOfTime60-89DaysPastDueNotWorse96'] = 1     \n",
    "\n",
    "    df['NumberOfTime60-89DaysPastDueNotWorse98'] = 0\n",
    "    df.loc[df['NumberOfTime60-89DaysPastDueNotWorse'] == 98 ,'NumberOfTime60-89DaysPastDueNotWorse98'] = 1    \n",
    "\n",
    "    df['Never60.89DaysPastDueNotWorse'] = 0\n",
    "    df.loc[df['NumberOfTime60-89DaysPastDueNotWorse'] == 0 ,'Never60.89DaysPastDueNotWorse'] = 1\n",
    "    \n",
    "    #este no estaba en el codigo original\n",
    "    df.loc[df['NumberOfTime60-89DaysPastDueNotWorse'] > 90 ,'NumberOfTime60-89DaysPastDueNotWorse'] = 0\n",
    "    \n",
    "    #cantidad de impagos mayores a 90\n",
    "\n",
    "    df['NumberOfTimes90DaysLateLarge'] = 0\n",
    "    df.loc[df['NumberOfTimes90DaysLate'] > 90 ,'NumberOfTimes90DaysLateLarge'] = 1\n",
    "    \n",
    "    df['NumberOfTimes90DaysLate96'] = 0\n",
    "    df.loc[df['NumberOfTimes90DaysLate'] == 96 ,'NumberOfTimes90DaysLate96'] = 1 \n",
    "    \n",
    "    df['NumberOfTimes90DaysLate98'] = 0\n",
    "    df.loc[df['NumberOfTimes90DaysLate'] == 98 ,'NumberOfTimes90DaysLate98'] = 1\n",
    "\n",
    "    df['Never90DaysLate'] = 0\n",
    "    df.loc[df['NumberOfTimes90DaysLate'] == 0 ,'Never90DaysLate'] = 1\n",
    "    \n",
    "    df.loc[df['NumberOfTimes90DaysLate'] > 90 ,'NumberOfTimes90DaysLate'] = 0    \n",
    "    \n",
    "  \n",
    "    #################################3\n",
    "\n",
    "    df['NumberOfTime30.89DaysPastDueNotWorse'] = df['NumberOfTime30-59DaysPastDueNotWorse'] + df['NumberOfTime60-89DaysPastDueNotWorse']\n",
    "    df['Never30.89DaysPastDueNotWorse'] = df['Never60.89DaysPastDueNotWorse'] * df['Never30.59DaysPastDueNotWorse']\n",
    " \n",
    "\n",
    "    df['NumberOfTimesPastDue'] = df['NumberOfTime30-59DaysPastDueNotWorse'] + df['NumberOfTime60-89DaysPastDueNotWorse'] + df['NumberOfTimes90DaysLate']\n",
    "    df['NumberOfTimesPastDue'] = df['Never90DaysLate'] * df['Never60.89DaysPastDueNotWorse'] * df['Never30.59DaysPastDueNotWorse']\n",
    "\n",
    "    df['Log.NumberOfTimesPastDue'] = np.log(df['NumberOfTimesPastDue'])\n",
    "    df.loc[df['Log.NumberOfTimesPastDue'].isin([np.nan, np.inf, -np.inf]),'Log.NumberOfTimesPastDue'] = 0\n",
    "\n",
    "    df['Log.NumberOfTimes90DaysLate'] = np.log(df['NumberOfTimes90DaysLate'])\n",
    "    df.loc[df['Log.NumberOfTimes90DaysLate'].isin([np.nan, np.inf, -np.inf]),'Log.NumberOfTimes90DaysLate'] = 0\n",
    "    \n",
    "    df['Log.NumberOfTime30-59DaysPastDueNotWorse'] = np.log(df['NumberOfTime30-59DaysPastDueNotWorse'])\n",
    "    df.loc[df['Log.NumberOfTime30-59DaysPastDueNotWorse'].isin([np.nan, np.inf, -np.inf]),'Log.NumberOfTime30-59DaysPastDueNotWorse'] = 0\n",
    "\n",
    "    df['Log.NumberOfTime60-89DaysPastDueNotWorse'] = np.log(df['NumberOfTime60-89DaysPastDueNotWorse'])\n",
    "    df.loc[df['Log.NumberOfTime60-89DaysPastDueNotWorse'].isin([np.nan, np.inf, -np.inf]),'Log.NumberOfTime60-89DaysPastDueNotWorse'] = 0\n",
    "    \n",
    "    df['Log.Ratio90to30.59DaysLate'] = df['Log.NumberOfTimes90DaysLate'] - df['Log.NumberOfTime30-59DaysPastDueNotWorse']\n",
    "    df['Log.Ratio90to60.89DaysLate'] = df['Log.NumberOfTimes90DaysLate'] - df['Log.NumberOfTime60-89DaysPastDueNotWorse']\n",
    "\n",
    "    df = df.drop(['NumberOfTimesPastDue'],axis=1,inplace=False)\n",
    "    df = df.drop(['NumberOfTimes90DaysLate'],axis=1,inplace=False)\n",
    "    df = df.drop(['NumberOfTime30-59DaysPastDueNotWorse'],axis=1,inplace=False)\n",
    "    df = df.drop(['NumberOfTime60-89DaysPastDueNotWorse'],axis=1,inplace=False)\n",
    "    \n",
    "    return df"
   ]
  },
  {
   "cell_type": "code",
   "execution_count": 20,
   "metadata": {},
   "outputs": [],
   "source": [
    "def fixAge(df):\n",
    "    df['EligibleSS'] = 0\n",
    "    df.loc[df['age'] > 60 ,'EligibleSS'] = 1\n",
    "    \n",
    "    df['LowAge'] = 0\n",
    "    df.loc[df['age'] <18 ,'LowAge'] = 1\n",
    "\n",
    "    df['Log.age'] = np.log(df['age'])\n",
    "    df.loc[df['Log.age'].isin([np.nan, np.inf, -np.inf]),'Log.age'] = 0\n",
    "    df.loc[df['LowAge'] == 1 ,'Log.age'] = 0\n",
    "\n",
    "    \n",
    "    return df"
   ]
  },
  {
   "cell_type": "code",
   "execution_count": 21,
   "metadata": {},
   "outputs": [],
   "source": [
    "def fixDebtClass(df):\n",
    "\n",
    "    df['DTIOver33'] = 0\n",
    "    df.loc[(df['DebtRatio'] > .33) & (df['MonthlyIncome'] >0) ,'DTIOver33'] = 1\n",
    "  \n",
    "  \n",
    "    df['DTIOver45'] = 0\n",
    "    df.loc[(df['DebtRatio'] > .45) & (df['MonthlyIncome'] >0) ,'DTIOver45'] = 1\n",
    "  \n",
    "    \n",
    "    df['DisposableIncome'] = (1- df['DebtRatio']) * df['MonthlyIncome']\n",
    "    df.loc[df['MonthlyIncome'] == 0 ,'DisposableIncome'] = 0\n",
    "    \n",
    "    #ingreso menos la deuda\n",
    "    \n",
    "    return df"
   ]
  },
  {
   "cell_type": "code",
   "execution_count": 22,
   "metadata": {},
   "outputs": [],
   "source": [
    "def dataPipeline(df):\n",
    "    df = fixNAs(df)\n",
    "    df = fixDebtRatio(df)\n",
    "    df = fixRevolving(df)\n",
    "    df = fixCreditLines(df)\n",
    "    df = fixRealEstateLoan(df)\n",
    "    df = fixNumberOfTimes(df)\n",
    "    df = fixAge(df)\n",
    "    df = fixDebtClass(df)\n",
    "    return df"
   ]
  },
  {
   "cell_type": "code",
   "execution_count": 23,
   "metadata": {},
   "outputs": [
    {
     "name": "stderr",
     "output_type": "stream",
     "text": [
      "C:\\Users\\javie\\Anaconda3\\envs\\rstudio2\\lib\\site-packages\\ipykernel_launcher.py:7: RuntimeWarning: divide by zero encountered in log\n",
      "  import sys\n",
      "C:\\Users\\javie\\Anaconda3\\envs\\rstudio2\\lib\\site-packages\\ipykernel_launcher.py:8: RuntimeWarning: divide by zero encountered in log\n",
      "  \n",
      "C:\\Users\\javie\\Anaconda3\\envs\\rstudio2\\lib\\site-packages\\ipykernel_launcher.py:19: RuntimeWarning: divide by zero encountered in log\n",
      "C:\\Users\\javie\\Anaconda3\\envs\\rstudio2\\lib\\site-packages\\ipykernel_launcher.py:63: RuntimeWarning: divide by zero encountered in log\n",
      "C:\\Users\\javie\\Anaconda3\\envs\\rstudio2\\lib\\site-packages\\ipykernel_launcher.py:66: RuntimeWarning: divide by zero encountered in log\n",
      "C:\\Users\\javie\\Anaconda3\\envs\\rstudio2\\lib\\site-packages\\ipykernel_launcher.py:69: RuntimeWarning: divide by zero encountered in log\n",
      "C:\\Users\\javie\\Anaconda3\\envs\\rstudio2\\lib\\site-packages\\ipykernel_launcher.py:72: RuntimeWarning: divide by zero encountered in log\n"
     ]
    }
   ],
   "source": [
    "train_data = dataPipeline(train_data_balanced)\n",
    "test_data = dataPipeline(test_data)\n",
    "data = dataPipeline(data)"
   ]
  },
  {
   "cell_type": "code",
   "execution_count": 24,
   "metadata": {},
   "outputs": [
    {
     "data": {
      "text/plain": [
       "ID                                           0\n",
       "SeriousDlqin2yrs                             0\n",
       "age                                          0\n",
       "DebtRatio                                    0\n",
       "MonthlyIncome                                0\n",
       "NumberOfOpenCreditLinesAndLoans              0\n",
       "NumberRealEstateLoansOrLines                 0\n",
       "NumberOfDependents                           0\n",
       "UnknownNumberOfDependents                    0\n",
       "UnknownMonthlyIncome                         0\n",
       "ZeroDebtRatio                                0\n",
       "UnknownIncomeDebtRatio                       0\n",
       "Log.Debt                                     0\n",
       "ZeroRevolvingUtilization                     0\n",
       "WeirdRevolvingUtilization                    0\n",
       "Weird0999Utilization                         0\n",
       "FullUtilization                              0\n",
       "ExcessUtilization                            0\n",
       "Log.RevolvingUtilizationOfUnsecuredLines     0\n",
       "RevolvingLines                               0\n",
       "HasRevolvingLines                            0\n",
       "HasRealEstateLoans                           0\n",
       "HasMultipleRealEstateLoans                   0\n",
       "NumberOfTime30-59DaysPastDueNotWorseLarge    0\n",
       "NumberOfTime30-59DaysPastDueNotWorse96       0\n",
       "NumberOfTime30-59DaysPastDueNotWorse98       0\n",
       "Never30.59DaysPastDueNotWorse                0\n",
       "NumberOfTime60-89DaysPastDueNotWorseLarge    0\n",
       "NumberOfTime60-89DaysPastDueNotWorse96       0\n",
       "NumberOfTime60-89DaysPastDueNotWorse98       0\n",
       "Never60.89DaysPastDueNotWorse                0\n",
       "NumberOfTimes90DaysLateLarge                 0\n",
       "NumberOfTimes90DaysLate96                    0\n",
       "NumberOfTimes90DaysLate98                    0\n",
       "Never90DaysLate                              0\n",
       "NumberOfTime30.89DaysPastDueNotWorse         0\n",
       "Never30.89DaysPastDueNotWorse                0\n",
       "Log.NumberOfTimesPastDue                     0\n",
       "Log.NumberOfTimes90DaysLate                  0\n",
       "Log.NumberOfTime30-59DaysPastDueNotWorse     0\n",
       "Log.NumberOfTime60-89DaysPastDueNotWorse     0\n",
       "Log.Ratio90to30.59DaysLate                   0\n",
       "Log.Ratio90to60.89DaysLate                   0\n",
       "EligibleSS                                   0\n",
       "LowAge                                       0\n",
       "Log.age                                      0\n",
       "DTIOver33                                    0\n",
       "DTIOver45                                    0\n",
       "DisposableIncome                             0\n",
       "dtype: int64"
      ]
     },
     "execution_count": 24,
     "metadata": {},
     "output_type": "execute_result"
    }
   ],
   "source": [
    "train_data.isnull().sum()"
   ]
  },
  {
   "cell_type": "code",
   "execution_count": 25,
   "metadata": {},
   "outputs": [],
   "source": [
    "clf = RandomForestClassifier(n_estimators=100, verbose = 1)"
   ]
  },
  {
   "cell_type": "code",
   "execution_count": 26,
   "metadata": {},
   "outputs": [
    {
     "name": "stderr",
     "output_type": "stream",
     "text": [
      "[Parallel(n_jobs=1)]: Using backend SequentialBackend with 1 concurrent workers.\n",
      "[Parallel(n_jobs=1)]: Done 100 out of 100 | elapsed:    9.7s finished\n"
     ]
    },
    {
     "data": {
      "text/plain": [
       "RandomForestClassifier(bootstrap=True, class_weight=None, criterion='gini',\n",
       "            max_depth=None, max_features='auto', max_leaf_nodes=None,\n",
       "            min_impurity_decrease=0.0, min_impurity_split=None,\n",
       "            min_samples_leaf=1, min_samples_split=2,\n",
       "            min_weight_fraction_leaf=0.0, n_estimators=100, n_jobs=None,\n",
       "            oob_score=False, random_state=None, verbose=1,\n",
       "            warm_start=False)"
      ]
     },
     "execution_count": 26,
     "metadata": {},
     "output_type": "execute_result"
    }
   ],
   "source": [
    "from sklearn.metrics import roc_auc_score\n",
    "from sklearn.model_selection import train_test_split\n",
    "x,y =  data.drop(['SeriousDlqin2yrs','ID'],axis=1,inplace=False), data['SeriousDlqin2yrs']\n",
    "x_train,x_test,y_train,y_test = train_test_split(x,y,test_size = 0.3,random_state = 1)\n",
    "clf.fit(x_train,y_train)\n",
    "\n",
    "#train_y = train_data['SeriousDlqin2yrs']\n",
    "#train_X = train_data.drop(['SeriousDlqin2yrs','ID'],axis=1,inplace=False)\n",
    "#clf.fit(train_X,train_y)"
   ]
  },
  {
   "cell_type": "code",
   "execution_count": 27,
   "metadata": {},
   "outputs": [
    {
     "name": "stderr",
     "output_type": "stream",
     "text": [
      "[Parallel(n_jobs=1)]: Using backend SequentialBackend with 1 concurrent workers.\n",
      "[Parallel(n_jobs=1)]: Done 100 out of 100 | elapsed:    9.6s finished\n",
      "[Parallel(n_jobs=1)]: Using backend SequentialBackend with 1 concurrent workers.\n",
      "[Parallel(n_jobs=1)]: Done 100 out of 100 | elapsed:    9.5s finished\n"
     ]
    }
   ],
   "source": [
    "probs = clf.predict_proba(x_test)\n",
    "auc = roc_auc_score(y_test,probs[:, 1])\n",
    "print('AUC: %.3f' % auc)\n",
    "\n",
    "#test_X = test_data.drop(['SeriousDlqin2yrs','ID'],axis=1,inplace=False)\n",
    "#y_pred = clf.predict(test_X)\n",
    "#y_pred_prob = clf.predict_proba(test_X)[:,0]\n"
   ]
  },
  {
   "cell_type": "code",
   "execution_count": 28,
   "metadata": {},
   "outputs": [
    {
     "data": {
      "text/plain": [
       "[('age', 0.062233841964048235),\n",
       " ('DebtRatio', 0.07795599427736088),\n",
       " ('MonthlyIncome', 0.06021075279204609),\n",
       " ('NumberOfOpenCreditLinesAndLoans', 0.04880917038250618),\n",
       " ('NumberRealEstateLoansOrLines', 0.018597405271502717),\n",
       " ('NumberOfDependents', 0.025587008076937586),\n",
       " ('UnknownNumberOfDependents', 0.0),\n",
       " ('UnknownMonthlyIncome', 0.0),\n",
       " ('ZeroDebtRatio', 0.001417632173289159),\n",
       " ('UnknownIncomeDebtRatio', 0.0),\n",
       " ('Log.Debt', 0.06315118435802279),\n",
       " ('ZeroRevolvingUtilization', 0.007230193300704136),\n",
       " ('WeirdRevolvingUtilization', 0.03659605433186755),\n",
       " ('Weird0999Utilization', 0.0),\n",
       " ('FullUtilization', 6.806085769073337e-05),\n",
       " ('ExcessUtilization', 0.006885208957199911),\n",
       " ('Log.RevolvingUtilizationOfUnsecuredLines', 0.12823851727991023),\n",
       " ('RevolvingLines', 0.04797968607392745),\n",
       " ('HasRevolvingLines', 0.0023354776621563205),\n",
       " ('HasRealEstateLoans', 0.005226111182017546),\n",
       " ('HasMultipleRealEstateLoans', 0.006074132518807156),\n",
       " ('NumberOfTime30-59DaysPastDueNotWorseLarge', 0.0001410014486673065),\n",
       " ('NumberOfTime30-59DaysPastDueNotWorse96', 2.621185451644473e-07),\n",
       " ('NumberOfTime30-59DaysPastDueNotWorse98', 7.243164847190067e-05),\n",
       " ('Never30.59DaysPastDueNotWorse', 0.026922031574767136),\n",
       " ('NumberOfTime60-89DaysPastDueNotWorseLarge', 0.0001665469692271745),\n",
       " ('NumberOfTime60-89DaysPastDueNotWorse96', 4.0011950468111334e-07),\n",
       " ('NumberOfTime60-89DaysPastDueNotWorse98', 0.00014796027119119243),\n",
       " ('Never60.89DaysPastDueNotWorse', 0.01997629319292234),\n",
       " ('NumberOfTimes90DaysLateLarge', 8.790689401634955e-05),\n",
       " ('NumberOfTimes90DaysLate96', 5.209619589463596e-07),\n",
       " ('NumberOfTimes90DaysLate98', 5.318354389729122e-05),\n",
       " ('Never90DaysLate', 0.04408432413620953),\n",
       " ('NumberOfTime30.89DaysPastDueNotWorse', 0.056674992347447065),\n",
       " ('Never30.89DaysPastDueNotWorse', 0.055177470700573814),\n",
       " ('Log.NumberOfTimesPastDue', 0.0),\n",
       " ('Log.NumberOfTimes90DaysLate', 0.00832521809191809),\n",
       " ('Log.NumberOfTime30-59DaysPastDueNotWorse', 0.013450817492493404),\n",
       " ('Log.NumberOfTime60-89DaysPastDueNotWorse', 0.00259959263434511),\n",
       " ('Log.Ratio90to30.59DaysLate', 0.01182488949110081),\n",
       " ('Log.Ratio90to60.89DaysLate', 0.009315074911037856),\n",
       " ('EligibleSS', 0.008279529775009273),\n",
       " ('LowAge', 0.0),\n",
       " ('Log.age', 0.06524916390119224),\n",
       " ('DTIOver33', 0.006943984456152418),\n",
       " ('DTIOver45', 0.00777001138911582),\n",
       " ('DisposableIncome', 0.06413996047024022)]"
      ]
     },
     "execution_count": 28,
     "metadata": {},
     "output_type": "execute_result"
    }
   ],
   "source": [
    "list(zip(test_X.columns.values , clf.feature_importances_))"
   ]
  },
  {
   "cell_type": "code",
   "execution_count": 29,
   "metadata": {
    "scrolled": true
   },
   "outputs": [
    {
     "name": "stdout",
     "output_type": "stream",
     "text": [
      "probabilidad no : 25460\n",
      "probabilidad si : 75287\n"
     ]
    }
   ],
   "source": [
    "yout = pd.DataFrame({'Id':test_data.ID.values,'Probability':probs[:, 1]})\n",
    "probability_no = yout[yout['Probability']<.5]\n",
    "probability_si = yout[yout['Probability']>.5]\n",
    "print(\"probabilidad no : {}\".format(len(probability_no)))\n",
    "print(\"probabilidad si : {}\".format(len(probability_si)))\n",
    "\n",
    "yout2 = pd.DataFrame({'Id':test_data.ID.values,'Probability':y_pred})\n",
    "yout2['Probability'].value_counts()\n",
    "\n",
    "yout.to_csv('random_forest_result.csv',index=False)"
   ]
  },
  {
   "cell_type": "code",
   "execution_count": 30,
   "metadata": {},
   "outputs": [
    {
     "name": "stderr",
     "output_type": "stream",
     "text": [
      "[Parallel(n_jobs=1)]: Using backend SequentialBackend with 1 concurrent workers.\n",
      "[Parallel(n_jobs=1)]: Done 100 out of 100 | elapsed:   57.2s finished\n",
      "[Parallel(n_jobs=1)]: Using backend SequentialBackend with 1 concurrent workers.\n",
      "[Parallel(n_jobs=1)]: Done 100 out of 100 | elapsed:    4.4s finished\n",
      "[Parallel(n_jobs=1)]: Using backend SequentialBackend with 1 concurrent workers.\n",
      "[Parallel(n_jobs=1)]: Done 100 out of 100 | elapsed:    4.1s finished\n",
      "[Parallel(n_jobs=1)]: Using backend SequentialBackend with 1 concurrent workers.\n"
     ]
    },
    {
     "name": "stdout",
     "output_type": "stream",
     "text": [
      "With Random Forest accuracy is:  0.9356222222222222\n",
      "AUC: 0.836\n"
     ]
    },
    {
     "name": "stderr",
     "output_type": "stream",
     "text": [
      "[Parallel(n_jobs=1)]: Done 100 out of 100 | elapsed:    4.2s finished\n"
     ]
    }
   ],
   "source": [
    "#Evaluacion\n",
    "from sklearn.metrics import roc_auc_score\n",
    "from sklearn.model_selection import train_test_split\n",
    "\n",
    "\n",
    "x,y =  data.drop(['SeriousDlqin2yrs','ID'],axis=1,inplace=False), data['SeriousDlqin2yrs']\n",
    "x_train,x_test,y_train,y_test = train_test_split(x,y,test_size = 0.3,random_state = 1)\n",
    "clf.fit(x_train,y_train)\n",
    "#prediction = clf.predict(x_test)\n",
    "#print('With Random Forest accuracy is: ',clf.score(x_test,y_test)) # accuracy\n",
    "\n",
    "probs = clf.predict_proba(x_test)\n",
    "probs = probs[:, 1]\n",
    "auc = roc_auc_score(y_test, probs)\n",
    "print('AUC: %.3f' % auc)"
   ]
  },
  {
   "cell_type": "code",
   "execution_count": 31,
   "metadata": {},
   "outputs": [
    {
     "data": {
      "text/plain": [
       "0.834726"
      ]
     },
     "execution_count": 31,
     "metadata": {},
     "output_type": "execute_result"
    }
   ],
   "source": [
    "# Kaggle : 0.834726\n",
    "0.834726"
   ]
  },
  {
   "cell_type": "code",
   "execution_count": 32,
   "metadata": {},
   "outputs": [],
   "source": [
    "#https://chrisalbon.com/machine_learning/trees_and_forests/random_forest_classifier_example/\n",
    "#https://github.com/wenbo5565/Kaggle-Competition-Give-Me-Some-Credit/blob/master/Solution%20to%20Kaggle%20Competition%20-%20Give%20Me%20Some%20Credit.ipynb"
   ]
  },
  {
   "cell_type": "code",
   "execution_count": null,
   "metadata": {},
   "outputs": [],
   "source": []
  }
 ],
 "metadata": {
  "kernelspec": {
   "display_name": "Python 3",
   "language": "python",
   "name": "python3"
  },
  "language_info": {
   "codemirror_mode": {
    "name": "ipython",
    "version": 3
   },
   "file_extension": ".py",
   "mimetype": "text/x-python",
   "name": "python",
   "nbconvert_exporter": "python",
   "pygments_lexer": "ipython3",
   "version": "3.7.1"
  }
 },
 "nbformat": 4,
 "nbformat_minor": 2
}
